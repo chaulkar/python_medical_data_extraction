{
 "cells": [
  {
   "cell_type": "code",
   "execution_count": 5,
   "id": "35048a76-f3b1-47c8-ae16-0c9b25342332",
   "metadata": {},
   "outputs": [],
   "source": [
    "import re"
   ]
  },
  {
   "cell_type": "code",
   "execution_count": 6,
   "id": "1e03e2dc-0832-4c0c-871e-fd8c12a8ec28",
   "metadata": {},
   "outputs": [
    {
     "data": {
      "text/plain": [
       "['8902345698', '1230', '100', '101']"
      ]
     },
     "execution_count": 6,
     "metadata": {},
     "output_type": "execute_result"
    }
   ],
   "source": [
    "text = '''patient phone number is 8902345698 bill amount is\n",
    "1230$.doctor charges are 100 dollars Patinet can go to online portal www.myhospital.com  and pay the bill amount online www.Regex101.com\n",
    "'''\n",
    "pattern = r\"\\d+\"\n",
    "match = re.findall(pattern, text)\n",
    "match"
   ]
  },
  {
   "cell_type": "code",
   "execution_count": 7,
   "id": "40819524-9a7c-41cd-aba5-3b5f104477ab",
   "metadata": {},
   "outputs": [
    {
     "data": {
      "text/plain": [
       "['8902345698']"
      ]
     },
     "execution_count": 7,
     "metadata": {},
     "output_type": "execute_result"
    }
   ],
   "source": [
    "text = '''patient phone number is 8902345698 bill amount ise \n",
    "1230$.doctor charges are 100 dollars Patinet can go to online portal www.myhospital.com  and pay the bill amount online www.Regex101.com\n",
    "'''\n",
    "pattern = r\"\\d{10}\"\n",
    "match = re.findall(pattern, text)\n",
    "match"
   ]
  },
  {
   "cell_type": "code",
   "execution_count": 8,
   "id": "25e44ffa-c654-49c9-8eb9-2f8e227f708f",
   "metadata": {},
   "outputs": [
    {
     "data": {
      "text/plain": [
       "['(732)-111-9999', '7326664444']"
      ]
     },
     "execution_count": 8,
     "metadata": {},
     "output_type": "execute_result"
    }
   ],
   "source": [
    "text = \"Patient's phone is (732)-111-9999, spouse phone number 7326664444. Bill amount is 120$\"\n",
    "\n",
    "pattern = r\"\\(\\d{3}\\)-\\d{3}-\\d{4}|\\d{10}\"\n",
    "match = re.findall(pattern, text)\n",
    "match"
   ]
  },
  {
   "cell_type": "code",
   "execution_count": 9,
   "id": "39051318-80fc-4d67-81a5-9ec5730fbdf5",
   "metadata": {},
   "outputs": [
    {
     "data": {
      "text/plain": [
       "<re.Match object; span=(55, 86), match='7326664444. Bill amount is 120$'>"
      ]
     },
     "execution_count": 9,
     "metadata": {},
     "output_type": "execute_result"
    }
   ],
   "source": [
    "text = \"Patient's phone is (732)-111-9999, spouse phone number 7326664444. Bill amount is 120$\"\n",
    "\n",
    "pattern = r\"(\\d{10})\\D+(\\d+)\\$\"\n",
    "match = re.search(pattern, text)\n",
    "match"
   ]
  },
  {
   "cell_type": "code",
   "execution_count": 10,
   "id": "90a1e8c6-d059-469d-9915-1543eac4e870",
   "metadata": {},
   "outputs": [],
   "source": [
    "phone, amount = match.groups()"
   ]
  },
  {
   "cell_type": "code",
   "execution_count": 11,
   "id": "3e5b913c-25e3-42aa-b399-4a59a65e94b7",
   "metadata": {},
   "outputs": [
    {
     "data": {
      "text/plain": [
       "'7326664444'"
      ]
     },
     "execution_count": 11,
     "metadata": {},
     "output_type": "execute_result"
    }
   ],
   "source": [
    "phone"
   ]
  },
  {
   "cell_type": "code",
   "execution_count": 12,
   "id": "26820dea-2142-4f08-8105-3d81dfdebd43",
   "metadata": {},
   "outputs": [
    {
     "data": {
      "text/plain": [
       "'120'"
      ]
     },
     "execution_count": 12,
     "metadata": {},
     "output_type": "execute_result"
    }
   ],
   "source": [
    "amount"
   ]
  },
  {
   "cell_type": "code",
   "execution_count": 13,
   "id": "30f43a2d-4ed1-4826-8e9a-69672c6753e4",
   "metadata": {},
   "outputs": [],
   "source": [
    "text = '''\n",
    "Name: Marta Sharapova Date: 5/11/2022\n",
    "\n",
    "Address: 9 tennis court, new Russia, DC\n",
    "\n",
    "\n",
    "\n",
    "Prednisone 20 mg\n",
    "Lialda 2.4 gram\n",
    "\n",
    "Directions:\n",
    "\n",
    "Prednisone, Taper 5 mig every 3 days,\n",
    "Finish in 2.5 weeks a\n",
    "Lialda - take 2 pill everyday for 1 month\n",
    "\n",
    "Refill: 2 times\n",
    "'''"
   ]
  },
  {
   "cell_type": "markdown",
   "id": "609bd4a5-36c5-4327-b577-c46adc6850e0",
   "metadata": {},
   "source": [
    "## Extract patient Name"
   ]
  },
  {
   "cell_type": "code",
   "execution_count": 14,
   "id": "a3bf5f5d-9fd5-4f50-8456-451468f6a38f",
   "metadata": {},
   "outputs": [
    {
     "data": {
      "text/plain": [
       "'Marta Sharapova'"
      ]
     },
     "execution_count": 14,
     "metadata": {},
     "output_type": "execute_result"
    }
   ],
   "source": [
    "pattern = \"Name:(.*)Date:\"\n",
    "match = re.findall(pattern, text)\n",
    "match[0].strip()"
   ]
  },
  {
   "cell_type": "markdown",
   "id": "579564c9-767f-4b8c-9527-d147c669813d",
   "metadata": {},
   "source": [
    "## Extract Patient address"
   ]
  },
  {
   "cell_type": "code",
   "execution_count": 15,
   "id": "2299194f-28d2-442c-af9c-69d45bb383b2",
   "metadata": {},
   "outputs": [
    {
     "data": {
      "text/plain": [
       "'9 tennis court, new Russia, DC'"
      ]
     },
     "execution_count": 15,
     "metadata": {},
     "output_type": "execute_result"
    }
   ],
   "source": [
    "pattern = r\"Address:(.*)\\n\"\n",
    "match = re.findall(pattern, text)\n",
    "match[0].strip()"
   ]
  },
  {
   "cell_type": "markdown",
   "id": "e8216101-f075-4474-b6e0-1957f5a409db",
   "metadata": {},
   "source": [
    "## Extract Medicines"
   ]
  },
  {
   "cell_type": "code",
   "execution_count": 16,
   "id": "25d7e222-f8fb-4907-86da-72082702c631",
   "metadata": {},
   "outputs": [
    {
     "name": "stdout",
     "output_type": "stream",
     "text": [
      "Prednisone 20 mg\n",
      "Lialda 2.4 gram\n"
     ]
    }
   ],
   "source": [
    "pattern = r\"Address[^\\n]*(.*)Directions\"\n",
    "match = re.findall(pattern, text,flags=re.DOTALL)\n",
    "print(match[0].strip())"
   ]
  },
  {
   "cell_type": "markdown",
   "id": "ff2307c4-8a0d-4159-82cb-bbb92ff27312",
   "metadata": {},
   "source": [
    "## Extract Directions"
   ]
  },
  {
   "cell_type": "code",
   "execution_count": 17,
   "id": "e47db94b-88db-45e5-831c-39813221d336",
   "metadata": {},
   "outputs": [
    {
     "name": "stdout",
     "output_type": "stream",
     "text": [
      "Prednisone, Taper 5 mig every 3 days,\n",
      "Finish in 2.5 weeks a\n",
      "Lialda - take 2 pill everyday for 1 month\n"
     ]
    }
   ],
   "source": [
    "pattern=r\"Directions:(.*)Refill\"\n",
    "match=re.findall(pattern, text, flags=re.DOTALL)\n",
    "print(match[0].strip())"
   ]
  },
  {
   "cell_type": "markdown",
   "id": "ac31361d-b79d-462f-ba92-40b993413b04",
   "metadata": {},
   "source": [
    "## Extract Refill Details"
   ]
  },
  {
   "cell_type": "code",
   "execution_count": 18,
   "id": "c223b627-612a-4e57-bec0-314d8124fe99",
   "metadata": {},
   "outputs": [
    {
     "name": "stdout",
     "output_type": "stream",
     "text": [
      "2\n"
     ]
    }
   ],
   "source": [
    "pattern=r\"Refill:(.*)times\"\n",
    "match=re.findall(pattern, text)\n",
    "print(match[0].strip())"
   ]
  },
  {
   "cell_type": "code",
   "execution_count": null,
   "id": "4d7a04c6-91a7-4fdd-b62f-b45e184fbed3",
   "metadata": {},
   "outputs": [],
   "source": []
  }
 ],
 "metadata": {
  "kernelspec": {
   "display_name": "Python 3 (ipykernel)",
   "language": "python",
   "name": "python3"
  },
  "language_info": {
   "codemirror_mode": {
    "name": "ipython",
    "version": 3
   },
   "file_extension": ".py",
   "mimetype": "text/x-python",
   "name": "python",
   "nbconvert_exporter": "python",
   "pygments_lexer": "ipython3",
   "version": "3.10.11"
  }
 },
 "nbformat": 4,
 "nbformat_minor": 5
}
