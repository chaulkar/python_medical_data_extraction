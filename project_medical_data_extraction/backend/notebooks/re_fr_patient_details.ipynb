{
 "cells": [
  {
   "cell_type": "code",
   "execution_count": 1,
   "id": "507587f6-0be9-4d50-a53f-7a332127c3e0",
   "metadata": {},
   "outputs": [],
   "source": [
    "import re"
   ]
  },
  {
   "cell_type": "code",
   "execution_count": 2,
   "id": "a056016f-fe45-44d3-bce7-3aeb41d5754c",
   "metadata": {},
   "outputs": [],
   "source": [
    "doc1='''\n",
    "17/12/2020\n",
    "\n",
    "Patient Medical Record\n",
    "\n",
    "Patient Information Birth Date\n",
    "Kathy Crawford May 6 1972\n",
    "(737) 988-0851 Weight’\n",
    "9264 Ash Dr 95\n",
    "New York City, 10005 .\n",
    "United States Height:\n",
    "190\n",
    "In Casc of Emergency\n",
    "7 ee\n",
    "Simeone Crawford 9266 Ash Dr\n",
    "New York City, New York, 10005\n",
    "Home phone United States\n",
    "(990) 375-4621\n",
    "Work phone\n",
    "\n",
    "Genera! Medical History\n",
    "\n",
    "a\n",
    "\n",
    "a\n",
    "\n",
    "a ea A CE i a\n",
    "\n",
    "Chicken Pox (Varicella): Measies:\n",
    "\n",
    "IMMUNE IMMUNE\n",
    "\n",
    "Have you had the Hepatitis B vaccination?\n",
    "No\n",
    "\n",
    "List any Medical Problems (asthma, seizures, headaches}:\n",
    "\n",
    "Migraine\n",
    "\n",
    "CO\n",
    "aa\n",
    "\n",
    ".\n",
    "\n",
    "‘Name of Insurance Company:\n",
    "\n",
    "Random Insuarance Company - 4789 Bollinger Rd\n",
    "Jersey City, New Jersey, 07030\n",
    "\n",
    "a Policy Number:\n",
    "ra 1520731 3 Expiry Date:\n",
    "\n",
    ". 30 December 2020\n",
    "Do you have medical insurance?\n",
    "\n",
    "Yes:\n",
    "\n",
    "Medical Insurance Details\n",
    "\n",
    "List any allergies:\n",
    "\n",
    "Peanuts\n",
    "\n",
    "List any medication taken regularly:\n",
    "Triptans'''"
   ]
  },
  {
   "cell_type": "code",
   "execution_count": 3,
   "id": "a5324cd1-0947-4ff8-857b-d673abd2305f",
   "metadata": {},
   "outputs": [],
   "source": [
    "doc2 = '''\n",
    "Patient Medical Record\n",
    "\n",
    "Patient Information Birth Date\n",
    "\n",
    "Jerry Lucas May 2 1998\n",
    "\n",
    "(279) 920-8204 Weight:\n",
    "\n",
    "4218 Wheeler Ridge Dr 57\n",
    "\n",
    "Buffalo, New York, 14201 Height:\n",
    "\n",
    "United States gnt\n",
    "170\n",
    "\n",
    "In Case of Emergency\n",
    "\n",
    "eee\n",
    "\n",
    "Joe Lucas . 4218 Wheeler Ridge Dr\n",
    "Buffalo, New York, 14201\n",
    "Home phone United States\n",
    "Work phone\n",
    "\n",
    "General Medical History\n",
    "\n",
    "Chicken Pox (Varicelia): Measles: ..\n",
    "\n",
    "IMMUNE NOT IMMUNE\n",
    "\n",
    "Have you had the Hepatitis B vaccination?\n",
    "\n",
    "‘Yes\n",
    "\n",
    "| List any Medical Problems (asthma, seizures, headaches):\n",
    "N/A\n",
    "\n",
    "7?\n",
    "v\n",
    "\n",
    "17/12/2020\n",
    "\n",
    "\n",
    "_—\n",
    "\n",
    "Name of Insurance Company:\n",
    "Random Insuarance Company\n",
    "\n",
    "Policy Number:\n",
    "5638746258\n",
    "\n",
    "Do you have medical insurance?\n",
    "\n",
    "_ Yes\n",
    "\n",
    "Medical Insurance Details\n",
    "\n",
    "List any allergies:\n",
    "N/A\n",
    "\n",
    "List any medication taken regularly:\n",
    "\n",
    "N/A\n",
    "\n",
    "4218 Smeeler Ridge Dr\n",
    "Buffalo, New York, 14206\n",
    "United States\n",
    "\n",
    "Expiry Date:\n",
    "31 December 2020\n",
    "'''"
   ]
  },
  {
   "cell_type": "markdown",
   "id": "d80a04e9-b532-4298-9f15-aa05c91ef35f",
   "metadata": {},
   "source": [
    "## Extract Patient Name"
   ]
  },
  {
   "cell_type": "code",
   "execution_count": 15,
   "id": "db9fc163-7141-45e4-ad04-41fcba3823f6",
   "metadata": {},
   "outputs": [
    {
     "data": {
      "text/plain": [
       "'Kathy Crawford'"
      ]
     },
     "execution_count": 15,
     "metadata": {},
     "output_type": "execute_result"
    }
   ],
   "source": [
    "pattern = r\"Date\\n*(.*)\\b(?:January|February|March|April|May|June|July|August|September|October|November|December)\\b\"\n",
    "match = re.findall(pattern,doc1 )\n",
    "match[0].strip()"
   ]
  },
  {
   "cell_type": "markdown",
   "id": "a9ba2990-d6ff-491d-bb38-e48edfcd43f3",
   "metadata": {},
   "source": [
    "## Extract patient Phone Number"
   ]
  },
  {
   "cell_type": "code",
   "execution_count": 9,
   "id": "992a722b-77c3-470d-bdd6-6a4903825e16",
   "metadata": {},
   "outputs": [
    {
     "data": {
      "text/plain": [
       "'(737) 988-0851'"
      ]
     },
     "execution_count": 9,
     "metadata": {},
     "output_type": "execute_result"
    }
   ],
   "source": [
    "pattern =r\"(.*)Weight\"\n",
    "match = re.findall(pattern, doc1)\n",
    "match[0].strip()"
   ]
  },
  {
   "cell_type": "markdown",
   "id": "809dec32-afc1-48e9-9fc8-0fe062a762ac",
   "metadata": {},
   "source": [
    "## Extract Hepatitis B vaccination status"
   ]
  },
  {
   "cell_type": "code",
   "execution_count": 14,
   "id": "a5f3fbec-51c3-4a77-adfd-39f00f821030",
   "metadata": {},
   "outputs": [
    {
     "data": {
      "text/plain": [
       "'Yes'"
      ]
     },
     "execution_count": 14,
     "metadata": {},
     "output_type": "execute_result"
    }
   ],
   "source": [
    "pattern = r\"vaccination\\?\\n*.*(Yes|No)\"\n",
    "match = re.findall(pattern,doc2)\n",
    "match[0].strip()"
   ]
  },
  {
   "cell_type": "markdown",
   "id": "551d2ffe-89cd-485a-8063-c75d9266bcca",
   "metadata": {},
   "source": [
    "## Extarct list of Medical Problems"
   ]
  },
  {
   "cell_type": "code",
   "execution_count": 7,
   "id": "9d54fcbe-149f-495b-ab3e-b7aa44f214ca",
   "metadata": {},
   "outputs": [
    {
     "data": {
      "text/plain": [
       "'N/A'"
      ]
     },
     "execution_count": 7,
     "metadata": {},
     "output_type": "execute_result"
    }
   ],
   "source": [
    "pattern = r\"Medical.Problems.*\\n*(.*)\"\n",
    "match = re.findall(pattern,doc2)\n",
    "match[0].strip()"
   ]
  },
  {
   "cell_type": "code",
   "execution_count": null,
   "id": "3af60011-fd0f-4318-9077-537c3ea522b7",
   "metadata": {},
   "outputs": [],
   "source": []
  }
 ],
 "metadata": {
  "kernelspec": {
   "display_name": "Python 3 (ipykernel)",
   "language": "python",
   "name": "python3"
  },
  "language_info": {
   "codemirror_mode": {
    "name": "ipython",
    "version": 3
   },
   "file_extension": ".py",
   "mimetype": "text/x-python",
   "name": "python",
   "nbconvert_exporter": "python",
   "pygments_lexer": "ipython3",
   "version": "3.10.11"
  }
 },
 "nbformat": 4,
 "nbformat_minor": 5
}
