{
 "cells": [
  {
   "cell_type": "code",
   "execution_count": 3,
   "id": "dbb63249-cdfa-4f93-9c8d-f09c7886b8b0",
   "metadata": {},
   "outputs": [],
   "source": [
    "from pdf2image import convert_from_path"
   ]
  },
  {
   "cell_type": "code",
   "execution_count": 2,
   "id": "ec4be083-05a5-45bd-aa12-18b6d073f87e",
   "metadata": {},
   "outputs": [],
   "source": [
    "pages = convert_from_path(\n",
    "    r\"D:\\code\\project_medical_data_extraction\\backend\\resources\\prescription\\pre_1.pdf\",\n",
    "    poppler_path=r\"D:\\poppler-24.08.0\\Library\\bin\"\n",
    ")"
   ]
  },
  {
   "cell_type": "code",
   "execution_count": 3,
   "id": "016a1a04-55fd-4289-b090-68c88d401183",
   "metadata": {},
   "outputs": [
    {
     "data": {
      "text/plain": [
       "[<PIL.PpmImagePlugin.PpmImageFile image mode=RGB size=1700x2200>]"
      ]
     },
     "execution_count": 3,
     "metadata": {},
     "output_type": "execute_result"
    }
   ],
   "source": [
    "pages"
   ]
  },
  {
   "cell_type": "code",
   "execution_count": 4,
   "id": "b5630988-a465-4348-8a52-33c7060a1d39",
   "metadata": {},
   "outputs": [
    {
     "data": {
      "text/plain": [
       "1"
      ]
     },
     "execution_count": 4,
     "metadata": {},
     "output_type": "execute_result"
    }
   ],
   "source": [
    "len(pages)"
   ]
  },
  {
   "cell_type": "code",
   "execution_count": 5,
   "id": "d7f9e3dc-3436-4476-ad1b-8dcb0ac05538",
   "metadata": {},
   "outputs": [],
   "source": [
    "pages[0].show()"
   ]
  },
  {
   "cell_type": "code",
   "execution_count": 4,
   "id": "2b72c038-1411-4bb6-b8ac-ad094bbbebc3",
   "metadata": {},
   "outputs": [],
   "source": [
    "import pytesseract"
   ]
  },
  {
   "cell_type": "code",
   "execution_count": 7,
   "id": "0626c4cc-c335-442f-88f4-3177c3803b8c",
   "metadata": {},
   "outputs": [],
   "source": [
    "pytesseract.pytesseract.tesseract_cmd=r\"C:\\Program Files\\Tesseract-OCR\\tesseract.exe\"\n",
    "text = pytesseract.image_to_string(pages[0],lang=\"eng\")"
   ]
  },
  {
   "cell_type": "code",
   "execution_count": 8,
   "id": "532d5e77-01ba-4cd5-801f-66489eca7dd8",
   "metadata": {},
   "outputs": [
    {
     "name": "stdout",
     "output_type": "stream",
     "text": [
      "Dr John Smith, M.D\n",
      "2 Non-Important Street,\n",
      "New York, Phone (000)-111-2222\n",
      "\n",
      "Name: Maria Sharapova Date: 5/11/2022\n",
      "\n",
      "Address: 9 tennis court, new Russia, DC\n",
      "\n",
      "—moemenmannenneneneunmnnnnennieesisiyoinnitniahadaaanniihsnseneneneeeernnttnnneenrenen:\n",
      "\n",
      "Prednisone 20 mg\n",
      "Lialda 2.4 gram\n",
      "\n",
      "3 days,\n",
      "\n",
      "or 1 month\n",
      "\n"
     ]
    }
   ],
   "source": [
    "print(text)"
   ]
  },
  {
   "cell_type": "code",
   "execution_count": 9,
   "id": "b3b5ccd2-72c8-4434-9012-324c37412657",
   "metadata": {},
   "outputs": [
    {
     "data": {
      "text/plain": [
       "str"
      ]
     },
     "execution_count": 9,
     "metadata": {},
     "output_type": "execute_result"
    }
   ],
   "source": [
    "type(text)"
   ]
  },
  {
   "cell_type": "code",
   "execution_count": 9,
   "id": "68f96e61-04cf-49d8-8e37-0c980061993f",
   "metadata": {},
   "outputs": [],
   "source": [
    "import numpy as np\n",
    "import cv2\n",
    "from PIL import Image\n",
    "def preprocess_image(img):\n",
    "    gray = cv2.cvtColor(np.array(img), cv2.COLOR_BGR2GRAY)\n",
    "    resized = cv2.resize(gray, None, fx=1.5, fy=1.5, interpolation=cv2.INTER_LINEAR)\n",
    "    processed_image = cv2.adaptiveThreshold(\n",
    "        resized,\n",
    "        255,\n",
    "        cv2.ADAPTIVE_THRESH_GAUSSIAN_C,\n",
    "        cv2.THRESH_BINARY,\n",
    "        61,\n",
    "        11\n",
    "    )\n",
    "    return processed_image"
   ]
  },
  {
   "cell_type": "code",
   "execution_count": 11,
   "id": "f32e6cca-a344-4637-8791-1a3f3b22100d",
   "metadata": {},
   "outputs": [],
   "source": [
    "img = preprocess_image(pages[0])\n",
    "Image.fromarray(img).show()"
   ]
  },
  {
   "cell_type": "code",
   "execution_count": 12,
   "id": "00079a83-5248-486f-8b1a-135ca6e91967",
   "metadata": {},
   "outputs": [],
   "source": [
    "pytesseract.pytesseract.tesseract_cmd=r\"C:\\Program Files\\Tesseract-OCR\\tesseract.exe\"\n",
    "text = pytesseract.image_to_string(img,lang=\"eng\")"
   ]
  },
  {
   "cell_type": "code",
   "execution_count": 13,
   "id": "23423d22-5245-4c11-a025-93c6baf0e03d",
   "metadata": {},
   "outputs": [
    {
     "name": "stdout",
     "output_type": "stream",
     "text": [
      "Dr John Smith, M.D\n",
      "2 Non-Important Street,\n",
      "New York, Phone (000)-111-2222\n",
      "\n",
      "Name: Marta Sharapova Date: 5/11/2022\n",
      "\n",
      "Address: 9 tennis court, new Russia, DC\n",
      "\n",
      "K\n",
      "\n",
      "Prednisone 20 mg\n",
      "Lialda 2.4 gram\n",
      "\n",
      "Directions:\n",
      "\n",
      "Prednisone, Taper 5 mig every 3 days,\n",
      "Finish in 2.5 weeks a\n",
      "Lialda - take 2 pill everyday for 1 month\n",
      "\n",
      "Refill: 2 times\n",
      "\n"
     ]
    }
   ],
   "source": [
    "print(text)"
   ]
  },
  {
   "cell_type": "code",
   "execution_count": null,
   "id": "3ed07dd1-506e-4a23-b753-bf2522c9fac8",
   "metadata": {},
   "outputs": [],
   "source": []
  },
  {
   "cell_type": "code",
   "execution_count": 1,
   "id": "6d7a36e0-b497-4ec5-8f07-4bcf7fd31ac6",
   "metadata": {},
   "outputs": [],
   "source": [
    "#for patient details document"
   ]
  },
  {
   "cell_type": "code",
   "execution_count": 5,
   "id": "09f19896-a483-4f10-8b69-f24dfe83669d",
   "metadata": {},
   "outputs": [],
   "source": [
    "pages = convert_from_path(\n",
    "    r\"D:\\code\\project_medical_data_extraction\\backend\\resources\\patient_details\\pd_1.pdf\",\n",
    "    poppler_path=r\"D:\\poppler-24.08.0\\Library\\bin\"\n",
    ")"
   ]
  },
  {
   "cell_type": "code",
   "execution_count": 6,
   "id": "b92bff37-bf63-44b8-a9db-04bfae7eb741",
   "metadata": {},
   "outputs": [
    {
     "data": {
      "text/plain": [
       "2"
      ]
     },
     "execution_count": 6,
     "metadata": {},
     "output_type": "execute_result"
    }
   ],
   "source": [
    "len(pages)"
   ]
  },
  {
   "cell_type": "code",
   "execution_count": 7,
   "id": "bcb64130-8728-4118-acce-0f8d5e66c7cd",
   "metadata": {},
   "outputs": [],
   "source": [
    "pages[0].show()"
   ]
  },
  {
   "cell_type": "code",
   "execution_count": 8,
   "id": "59ed5e6b-812a-4b7e-8e7d-ce449890dcc0",
   "metadata": {},
   "outputs": [],
   "source": [
    "pages[1].show()"
   ]
  },
  {
   "cell_type": "code",
   "execution_count": 10,
   "id": "0ccf7d2a-3980-497a-b2c1-c62879c776b7",
   "metadata": {},
   "outputs": [],
   "source": [
    "doc=\"\""
   ]
  },
  {
   "cell_type": "code",
   "execution_count": 11,
   "id": "c1230ff0-5aa2-49ff-8f7c-80c26d1d7596",
   "metadata": {},
   "outputs": [],
   "source": [
    "pytesseract.pytesseract.tesseract_cmd=r\"C:\\Program Files\\Tesseract-OCR\\tesseract.exe\"\n",
    "for page in pages:\n",
    "    img = preprocess_image(page)\n",
    "    text = pytesseract.image_to_string(img,lang=\"eng\")\n",
    "    doc = doc + \"\\n\" + text"
   ]
  },
  {
   "cell_type": "code",
   "execution_count": 12,
   "id": "dcaf5c4f-99ca-4505-a50b-c0779f1166d0",
   "metadata": {},
   "outputs": [
    {
     "name": "stdout",
     "output_type": "stream",
     "text": [
      "\n",
      "17/12/2020\n",
      "\n",
      "Patient Medical Record\n",
      "\n",
      "Patient Information Birth Date\n",
      "Kathy Crawford May 6 1972\n",
      "(737) 988-0851 Weight’\n",
      "9264 Ash Dr 95\n",
      "New York City, 10005 .\n",
      "United States Height:\n",
      "190\n",
      "In Casc of Emergency\n",
      "7 ee\n",
      "Simeone Crawford 9266 Ash Dr\n",
      "New York City, New York, 10005\n",
      "Home phone United States\n",
      "(990) 375-4621\n",
      "Work phone\n",
      "\n",
      "Genera! Medical History\n",
      "\n",
      "a\n",
      "\n",
      "a\n",
      "\n",
      "a ea A CE i a\n",
      "\n",
      "Chicken Pox (Varicella): Measies:\n",
      "\n",
      "IMMUNE IMMUNE\n",
      "\n",
      "Have you had the Hepatitis B vaccination?\n",
      "No\n",
      "\n",
      "List any Medical Problems (asthma, seizures, headaches}:\n",
      "\n",
      "Migraine\n",
      "\n",
      "CO\n",
      "aa\n",
      "\n",
      ".\n",
      "\n",
      "‘Name of Insurance Company:\n",
      "\n",
      "Random Insuarance Company - 4789 Bollinger Rd\n",
      "Jersey City, New Jersey, 07030\n",
      "\n",
      "a Policy Number:\n",
      "ra 1520731 3 Expiry Date:\n",
      "\n",
      ". 30 December 2020\n",
      "Do you have medical insurance?\n",
      "\n",
      "Yes:\n",
      "\n",
      "Medical Insurance Details\n",
      "\n",
      "List any allergies:\n",
      "\n",
      "Peanuts\n",
      "\n",
      "List any medication taken regularly:\n",
      "Triptans\n",
      "\n"
     ]
    }
   ],
   "source": [
    "print(doc)"
   ]
  },
  {
   "cell_type": "code",
   "execution_count": null,
   "id": "8f7d18bf-94e5-4e89-8588-17e74c850920",
   "metadata": {},
   "outputs": [],
   "source": []
  }
 ],
 "metadata": {
  "kernelspec": {
   "display_name": "Python 3 (ipykernel)",
   "language": "python",
   "name": "python3"
  },
  "language_info": {
   "codemirror_mode": {
    "name": "ipython",
    "version": 3
   },
   "file_extension": ".py",
   "mimetype": "text/x-python",
   "name": "python",
   "nbconvert_exporter": "python",
   "pygments_lexer": "ipython3",
   "version": "3.10.11"
  }
 },
 "nbformat": 4,
 "nbformat_minor": 5
}
